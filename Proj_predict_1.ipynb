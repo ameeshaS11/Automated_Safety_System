{
 "cells": [
  {
   "cell_type": "code",
   "execution_count": 10,
   "metadata": {},
   "outputs": [],
   "source": [
    "from firebase import firebase\n",
    "from datetime import datetime\n",
    "firebase = firebase.FirebaseApplication('https://alert-7c2b1.firebaseio.com/', None)"
   ]
  },
  {
   "cell_type": "code",
   "execution_count": 11,
   "metadata": {},
   "outputs": [
    {
     "data": {
      "text/plain": [
       "'--'"
      ]
     },
     "execution_count": 11,
     "metadata": {},
     "output_type": "execute_result"
    }
   ],
   "source": [
    "\n",
    "firebase.put('/alerts/alert1','mic_id',0)\n",
    "firebase.put('/alerts/alert1','description','safe')\n",
    "firebase.put('/alerts/alert1','timestamp','--')"
   ]
  },
  {
   "cell_type": "code",
   "execution_count": 12,
   "metadata": {},
   "outputs": [],
   "source": [
    "import pickle\n",
    "import os\n",
    "from scipy.io import wavfile\n",
    "import pandas as pd\n",
    "import matplotlib.pyplot as plt\n",
    "import numpy as np\n",
    "from keras.models import load_model\n",
    "from sklearn.metrics import accuracy_score\n",
    "from tqdm import tqdm\n",
    "from python_speech_features import mfcc"
   ]
  },
  {
   "cell_type": "code",
   "execution_count": 13,
   "metadata": {},
   "outputs": [],
   "source": [
    "class Config:\n",
    "    def __init__(self, mode='time', nfilt=26, nfeat= 13, nfft=512, rate=16000):\n",
    "        self.mode = mode\n",
    "        self.nfilt = nfilt\n",
    "        self.nfeat = nfeat\n",
    "        self.nfft = nfft\n",
    "        self.rate = rate\n",
    "        self.step = int(rate/10)\n",
    "        self.model_path = os.path.join('models', mode + '.model')\n",
    "        self.p_path = os.path.join('pickles', mode + '.p')\n",
    "\n"
   ]
  },
  {
   "cell_type": "code",
   "execution_count": 14,
   "metadata": {},
   "outputs": [],
   "source": [
    "def build_predictions(audio_file):\n",
    "    y_true = []\n",
    "    fn_prob = {}\n",
    "    \n",
    "    print('Extracting features from audio')\n",
    "    \n",
    "    rate, wav = wavfile.read(audio_file)\n",
    "    y_prob = []\n",
    "\n",
    "    for i in range(0, wav.shape[0]-config.step, config.step):\n",
    "        sample = wav[i:i+config.step]\n",
    "        X = mfcc(sample, rate, numcep=config.nfeat, nfilt=config.nfilt, nfft=config.nfft)\n",
    "        X = (X - config.min)/(config.max - config.min)\n",
    "\n",
    "        if config.mode == 'conv':\n",
    "            X = X.reshape(1, X.shape[0], X.shape[1], 1)\n",
    "        elif config.mode == 'time':\n",
    "            X = np.expand_dims(X, axis=0)\n",
    "        elif config.mode == 'convlstm':\n",
    "            X = X.reshape(1, X.shape[0], X.shape[1], 1)\n",
    "        y_hat = model.predict(X)\n",
    "        y_prob.append(y_hat)\n",
    "        \n",
    "\n",
    "    fn_prob[audio_file] = np.mean(y_prob, axis=0).flatten()\n",
    "        \n",
    "    return fn_prob"
   ]
  },
  {
   "cell_type": "code",
   "execution_count": 15,
   "metadata": {},
   "outputs": [
    {
     "name": "stdout",
     "output_type": "stream",
     "text": [
      "Extracting features from audio\n"
     ]
    }
   ],
   "source": [
    "classes = ['background', 'glass', 'screams']\n",
    "p_path = os.path.join('pickles', 'conv.p')\n",
    "\n",
    "with open(p_path, 'rb') as handle:\n",
    "    config = pickle.load(handle)\n",
    "    \n",
    "model = load_model(config.model_path)\n",
    "\n",
    "fn_prob = build_predictions('demo.wav')\n"
   ]
  },
  {
   "cell_type": "code",
   "execution_count": 16,
   "metadata": {},
   "outputs": [
    {
     "name": "stdout",
     "output_type": "stream",
     "text": [
      "['screams']\n"
     ]
    }
   ],
   "source": [
    "y_probs = []\n",
    "y_prob = fn_prob['demo.wav']\n",
    "y_probs.append(y_prob)\n",
    "        \n",
    "y_pred = [classes[np.argmax(y)] for y in y_probs]\n",
    "print(y_pred)\n"
   ]
  },
  {
   "cell_type": "code",
   "execution_count": 17,
   "metadata": {},
   "outputs": [],
   "source": [
    "alert_mic = 1001;\n",
    "alert_desc = y_pred[0]\n",
    "\n",
    "if alert_desc !='background':\n",
    "    firebase.put('/alerts/alert1','mic_id',alert_mic)\n",
    "    firebase.put('/alerts/alert1','description',alert_desc)\n",
    "    firebase.put('/alerts/alert1','timestamp',datetime.now())"
   ]
  },
  {
   "cell_type": "code",
   "execution_count": null,
   "metadata": {},
   "outputs": [],
   "source": []
  }
 ],
 "metadata": {
  "kernelspec": {
   "display_name": "Python 3",
   "language": "python",
   "name": "python3"
  },
  "language_info": {
   "codemirror_mode": {
    "name": "ipython",
    "version": 3
   },
   "file_extension": ".py",
   "mimetype": "text/x-python",
   "name": "python",
   "nbconvert_exporter": "python",
   "pygments_lexer": "ipython3",
   "version": "3.7.3"
  }
 },
 "nbformat": 4,
 "nbformat_minor": 2
}
