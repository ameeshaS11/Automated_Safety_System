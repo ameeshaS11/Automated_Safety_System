{
 "cells": [
  {
   "cell_type": "code",
   "execution_count": null,
   "metadata": {},
   "outputs": [
    {
     "name": "stdout",
     "output_type": "stream",
     "text": [
      " * Serving Flask app \"__main__\" (lazy loading)\n",
      " * Environment: production\n",
      "   WARNING: This is a development server. Do not use it in a production deployment.\n",
      "   Use a production WSGI server instead.\n",
      " * Debug mode: off\n"
     ]
    },
    {
     "name": "stderr",
     "output_type": "stream",
     "text": [
      " * Running on http://127.0.0.1:5000/ (Press CTRL+C to quit)\n"
     ]
    }
   ],
   "source": [
    "import flask\n",
    "from flask import jsonify, json\n",
    "from flask import request, send_from_directory\n",
    "from werkzeug.utils import secure_filename\n",
    "import socket\n",
    "from random import randint\n",
    "\n",
    "hostname = socket.gethostname()\n",
    "IPAddr = socket.gethostbyname(hostname)\n",
    "\n",
    "app = flask.Flask(__name__)\n",
    "\n",
    "@app.route(\"/upload\", methods = ['GET', 'POST'])\n",
    "def audiofile():\n",
    "     if request.method == 'POST':\n",
    "         if 'File' not in request.files:\n",
    "            return('No file part'+str(request.files))\n",
    "         \n",
    "         f = request.files['File']\n",
    "         f.save(secure_filename(f.filename))\n",
    "         return 'file uploaded successfully'\n",
    "\n",
    "@app.route(\"/\")\n",
    "def home():\n",
    "    return 'Hello Audio'\n",
    "\n",
    "if __name__ == '__main__':\n",
    "    app.run()"
   ]
  },
  {
   "cell_type": "code",
   "execution_count": null,
   "metadata": {},
   "outputs": [],
   "source": []
  }
 ],
 "metadata": {
  "kernelspec": {
   "display_name": "Python 3",
   "language": "python",
   "name": "python3"
  },
  "language_info": {
   "codemirror_mode": {
    "name": "ipython",
    "version": 3
   },
   "file_extension": ".py",
   "mimetype": "text/x-python",
   "name": "python",
   "nbconvert_exporter": "python",
   "pygments_lexer": "ipython3",
   "version": "3.7.3"
  }
 },
 "nbformat": 4,
 "nbformat_minor": 2
}
